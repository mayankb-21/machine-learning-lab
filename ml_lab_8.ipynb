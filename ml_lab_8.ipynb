{
  "nbformat": 4,
  "nbformat_minor": 0,
  "metadata": {
    "colab": {
      "provenance": [],
      "include_colab_link": true
    },
    "kernelspec": {
      "name": "python3",
      "display_name": "Python 3"
    },
    "language_info": {
      "name": "python"
    }
  },
  "cells": [
    {
      "cell_type": "markdown",
      "metadata": {
        "id": "view-in-github",
        "colab_type": "text"
      },
      "source": [
        "<a href=\"https://colab.research.google.com/github/mayankb-21/machine-learning-lab/blob/main/ml_lab_8.ipynb\" target=\"_parent\"><img src=\"https://colab.research.google.com/assets/colab-badge.svg\" alt=\"Open In Colab\"/></a>"
      ]
    },
    {
      "cell_type": "code",
      "metadata": {
        "colab": {
          "base_uri": "https://localhost:8080/"
        },
        "id": "f05faf28",
        "outputId": "f8971860-fed3-4dca-85d6-782d6c473520"
      },
      "source": [
        "# Logic Gates using McCulloch-Pitts Neuron Model\n",
        "\n",
        "def mp_neuron(inputs, weights, threshold):\n",
        "    weighted_sum = sum(i * w for i, w in zip(inputs, weights))\n",
        "    return 1 if weighted_sum >= threshold else 0\n",
        "\n",
        "\n",
        "# AND Gate\n",
        "def AND_gate(x1, x2):\n",
        "    return mp_neuron([x1, x2], [1, 1], threshold=2)\n",
        "\n",
        "\n",
        "# OR Gate\n",
        "def OR_gate(x1, x2):\n",
        "    return mp_neuron([x1, x2], [1, 1], threshold=1)\n",
        "\n",
        "\n",
        "# NOT Gate\n",
        "def NOT_gate(x):\n",
        "    return mp_neuron([x], [-1], threshold=0)\n",
        "\n",
        "\n",
        "# NAND Gate (NOT of AND)\n",
        "def NAND_gate(x1, x2):\n",
        "    return mp_neuron([x1, x2], [-1, -1], threshold=-1)\n",
        "\n",
        "\n",
        "# NOR Gate (NOT of OR)\n",
        "def NOR_gate(x1, x2):\n",
        "    return mp_neuron([x1, x2], [-1, -1], threshold=0)\n",
        "\n",
        "\n",
        "# XOR Gate (using basic gates)\n",
        "def XOR_gate(x1, x2):\n",
        "    return OR_gate(AND_gate(x1, NOT_gate(x2)), AND_gate(NOT_gate(x1), x2))\n",
        "\n",
        "\n",
        "# Test all gates\n",
        "print(\"x1 x2 | AND OR NAND NOR XOR\")\n",
        "for x1 in [0, 1]:\n",
        "    for x2 in [0, 1]:\n",
        "        print(f\"{x1}  {x2}  |  {AND_gate(x1,x2)}    {OR_gate(x1,x2)}    {NAND_gate(x1,x2)}    {NOR_gate(x1,x2)}    {XOR_gate(x1,x2)}\")\n",
        "\n",
        "# Test NOT gate separately\n",
        "print(\"\\nNOT Gate:\")\n",
        "for x in [0, 1]:\n",
        "    print(f\"{x} -> {NOT_gate(x)}\")\n"
      ],
      "execution_count": null,
      "outputs": [
        {
          "output_type": "stream",
          "name": "stdout",
          "text": [
            "x1 x2 | AND OR NAND NOR XOR\n",
            "0  0  |  0    0    1    1    0\n",
            "0  1  |  0    1    1    0    1\n",
            "1  0  |  0    1    1    0    1\n",
            "1  1  |  1    1    0    0    0\n",
            "\n",
            "NOT Gate:\n",
            "0 -> 1\n",
            "1 -> 0\n"
          ]
        }
      ]
    }
  ]
}